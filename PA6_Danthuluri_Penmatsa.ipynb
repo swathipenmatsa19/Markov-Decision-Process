{
 "cells": [
  {
   "cell_type": "code",
   "execution_count": 182,
   "metadata": {},
   "outputs": [],
   "source": [
    "import numpy as np\n",
    "\n",
    "input = \"\"\n",
    "with open (\"sampleinput.dat\", \"r\") as myfile:    \n",
    "    input=myfile.readlines()\n",
    "    "
   ]
  },
  {
   "cell_type": "code",
   "execution_count": 183,
   "metadata": {},
   "outputs": [],
   "source": [
    "class Node():\n",
    "    def __init__(s, name = \"\", iR = 0, fR = [], action = [], MaxPol = \"\",MaxPolval = 0,prevRowValue = 0):\n",
    "        s.name = name \n",
    "        s.iR = iR  \n",
    "        s.MaxPol = MaxPol \n",
    "        s.MaxPolval = MaxPolval \n",
    "        s.prevRowValue = prevRowValue \n",
    "\n",
    "        s.fR = fR\n",
    "        s.action = action      "
   ]
  },
  {
   "cell_type": "code",
   "execution_count": 184,
   "metadata": {},
   "outputs": [],
   "source": [
    "def MarkovDecisionProcess(states,actions,inputfile,  gamma):\n",
    "    nodeList = getList(inputfile) \n",
    "   \n",
    "    for state in nodeList:\n",
    "\n",
    "        a1 = 0\n",
    "        a2 = 0\n",
    "\n",
    "        for act in state.action:\n",
    "                \n",
    "            if(\"a1\" in act):                    \n",
    "                a1 += getActionValues(act , nodeList)\n",
    "                    \n",
    "            elif(\"a2\" in act):\n",
    "                a2 += getActionValues(act , nodeList)\n",
    "                    \n",
    "        a1 *= gamma\n",
    "        a1 += float(state.cReward)\n",
    "        a2 *= gamma\n",
    "        a2 += float(state.cReward)\n",
    "        \n",
    "        if(a1 > a2):\n",
    "            state.maxPol =\"a1\"\n",
    "            state.maxPolval = a1\n",
    "        elif(a2 > a1):\n",
    "            state.maxPol =\"a2\"\n",
    "            state.maxPolval = a2\n",
    "            \n",
    "    print(\"After iteration 1:\", end = '')\n",
    "    for state in nodeList:\n",
    "        print( \"(%s %s %s) \" %(state.name,state.maxPol,state.maxPolval), end = '')\n",
    "        state.prevRowValue = state.maxPolval\n",
    "    \n",
    "    print()\n",
    "    for i in range(states**actions-1):\n",
    "         \n",
    "        for state in nodeList:            \n",
    "\n",
    "            a1 = 0\n",
    "            a2 = 0\n",
    "\n",
    "            for act in state.action:\n",
    "                \n",
    "                if(\"a1\" in act):                    \n",
    "                    a1 += getPolicy(act , nodeList)\n",
    "                    \n",
    "                elif(\"a2\" in act):\n",
    "                    a2 += getPolicy(act , nodeList)\n",
    "                    \n",
    "            a1 *= gamma\n",
    "            a1 += float(state.cReward)\n",
    "            a2 *= gamma\n",
    "            a2 += float(state.cReward)\n",
    "            \n",
    "            if(a1 > a2):\n",
    "                state.maxPol =\"a1\"\n",
    "                state.maxPolval = a1\n",
    "            elif(a2 > a1):\n",
    "                state.maxPol =\"a2\"\n",
    "                state.maxPolval = a2\n",
    "\n",
    "        print(\"After iteration %d:\" %(i+2), end = '')\n",
    "        for state in nodeList:\n",
    "            print( \"(%s %s %s) \" %(state.name,state.maxPol,state.maxPolval), end = '')\n",
    "            state.prevRowValue = state.maxPolval\n",
    "        print()\n",
    "\n",
    "    print()"
   ]
  },
  {
   "cell_type": "code",
   "execution_count": 185,
   "metadata": {},
   "outputs": [],
   "source": [
    "def RetriveRow(inputfile):   \n",
    "\n",
    "    list = []\n",
    "    nodeName = \"\"\n",
    "    \n",
    "    for line in input: \n",
    "        i = 0\n",
    "        count = 0\n",
    "        state = Node()\n",
    "        state.action = []\n",
    "        line = line.replace(')', '')\n",
    "        line = line.replace('\\n', '')\n",
    "        tokens = line.split('(')\n",
    "        stateName = tokens[0].split(\" \")[0]\n",
    "        iReward = tokens[0].split(\" \")[1]\n",
    "        \n",
    "        state.name = stateName\n",
    "        state.cReward = iReward\n",
    "        actions = []\n",
    "        for i in range(1,  len(tokens)):\n",
    "            state.action.append(tokens[i].strip())\n",
    "        \n",
    "        list.append(state)\n",
    "    return list"
   ]
  },
  {
   "cell_type": "code",
   "execution_count": 186,
   "metadata": {},
   "outputs": [],
   "source": [
    "def policyIteration(action , nodeList):\n",
    "\n",
    "    act, state, prob = action.split(' ')\n",
    "    index = 0\n",
    "    for i in range(len(nodeList)):        \n",
    "        if(nodeList[i].name == state):\n",
    "            index = i\n",
    "    return (float(prob) * float(nodeList[index].prevRowValue))\n",
    "\n",
    "    \n",
    "    "
   ]
  },
  {
   "cell_type": "code",
   "execution_count": 187,
   "metadata": {
    "scrolled": true
   },
   "outputs": [
    {
     "name": "stdout",
     "output_type": "stream",
     "text": [
      "After iteration 1:(s1 a1 8.7275) (s2 a1 11.75) (s3 a2 -0.5) \n",
      "After iteration 2:(s1 a1 10.105773749999999) (s2 a1 13.433) (s3 a2 0.5727500000000001) \n",
      "After iteration 3:(s1 a1 10.869720919375) (s2 a1 14.122017249999999) (s3 a2 1.383777375000001) \n",
      "After iteration 4:(s1 a1 11.233299208855938) (s2 a1 14.499813377625) (s3 a2 1.7357789919375008) \n",
      "After iteration 5:(s1 a1 11.418578832860774) (s2 a1 14.681998697205563) (s3 a2 1.9232552719355933) \n",
      "After iteration 6:(s1 a1 11.510458993127033) (s2 a1 14.774503861943328) (s3 a2 2.014657362168302) \n",
      "After iteration 7:(s1 a1 11.556552511857916) (s2 a1 14.820465982242151) (s3 a2 2.060847444090035) \n",
      "After iteration 8:(s1 a1 11.579567012908289) (s2 a1 14.843507516321411) (s3 a2 2.0838416440826526) \n",
      "After iteration 9:(s1 a1 11.591080900042066) (s2 a1 14.855015776642269) (s3 a2 2.0953597078193944) \n",
      "\n"
     ]
    }
   ],
   "source": [
    "MarkovDecisionProcess(3,2,\"sampleinput.dat\",0.5)\n"
   ]
  }
 ],
 "metadata": {
  "kernelspec": {
   "display_name": "Python 3",
   "language": "python",
   "name": "python3"
  },
  "language_info": {
   "codemirror_mode": {
    "name": "ipython",
    "version": 3
   },
   "file_extension": ".py",
   "mimetype": "text/x-python",
   "name": "python",
   "nbconvert_exporter": "python",
   "pygments_lexer": "ipython3",
   "version": "3.7.3"
  }
 },
 "nbformat": 4,
 "nbformat_minor": 2
}
